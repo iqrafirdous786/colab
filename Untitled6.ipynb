{
  "nbformat": 4,
  "nbformat_minor": 0,
  "metadata": {
    "colab": {
      "provenance": [],
      "authorship_tag": "ABX9TyORzXS6dflGs+2+0iOAo1z6",
      "include_colab_link": true
    },
    "kernelspec": {
      "name": "python3",
      "display_name": "Python 3"
    },
    "language_info": {
      "name": "python"
    }
  },
  "cells": [
    {
      "cell_type": "markdown",
      "metadata": {
        "id": "view-in-github",
        "colab_type": "text"
      },
      "source": [
        "<a href=\"https://colab.research.google.com/github/iqrafirdous786/colab/blob/main/Untitled6.ipynb\" target=\"_parent\"><img src=\"https://colab.research.google.com/assets/colab-badge.svg\" alt=\"Open In Colab\"/></a>"
      ]
    },
    {
      "cell_type": "code",
      "execution_count": 1,
      "metadata": {
        "colab": {
          "base_uri": "https://localhost:8080/"
        },
        "id": "cbXy5en6wr1H",
        "outputId": "473a8167-6d63-491c-e0da-f91a8ab5f400"
      },
      "outputs": [
        {
          "output_type": "stream",
          "name": "stdout",
          "text": [
            "Hello\n",
            "Hello\n"
          ]
        }
      ],
      "source": [
        "print(\"Hello\")\n",
        "print('Hello')"
      ]
    },
    {
      "cell_type": "code",
      "source": [
        "print(\"It's alright\")\n",
        "print(\"He is called 'Johnny'\")\n",
        "print('He is called \"Johnny\"')"
      ],
      "metadata": {
        "colab": {
          "base_uri": "https://localhost:8080/"
        },
        "id": "c4hnwvcxw2Ub",
        "outputId": "b29eb88a-2607-4b8f-d72b-92026a725543"
      },
      "execution_count": 2,
      "outputs": [
        {
          "output_type": "stream",
          "name": "stdout",
          "text": [
            "It's alright\n",
            "He is called 'Johnny'\n",
            "He is called \"Johnny\"\n"
          ]
        }
      ]
    },
    {
      "cell_type": "code",
      "source": [
        "car1 = \"Ford\"\n",
        "car2 = \"Volvo\"\n",
        "car3 = \"BMW\""
      ],
      "metadata": {
        "id": "vdsKKb5PxJxB"
      },
      "execution_count": 4,
      "outputs": []
    },
    {
      "cell_type": "code",
      "source": [
        "mystr = \"banana\"\n",
        "\n",
        "for x in mystr:\n",
        "  print(x)\n"
      ],
      "metadata": {
        "colab": {
          "base_uri": "https://localhost:8080/"
        },
        "id": "AKE3nL1ExQGy",
        "outputId": "33188bc0-4a35-454d-b75d-26772873330f"
      },
      "execution_count": 6,
      "outputs": [
        {
          "output_type": "stream",
          "name": "stdout",
          "text": [
            "b\n",
            "a\n",
            "n\n",
            "a\n",
            "n\n",
            "a\n"
          ]
        }
      ]
    }
  ]
}